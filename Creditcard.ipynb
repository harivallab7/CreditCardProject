{
 "cells": [
  {
   "cell_type": "code",
   "execution_count": 5,
   "id": "a193c904-752d-437f-9ccb-367494213ec9",
   "metadata": {},
   "outputs": [],
   "source": [
    "import numpy as np \n",
    "import pandas as pd \n",
    "from sklearn.model_selection import train_test_split \n",
    "from sklearn.preprocessing import StandardScaler \n",
    "from sklearn.neighbors import KNeighborsClassifier \n",
    "from sklearn.linear_model import LogisticRegression \n",
    "from sklearn.ensemble import RandomForestClassifier \n",
    "from sklearn.metrics import accuracy_score, precision_score, recall_score, f1_score \n",
    "from matplotlib import pyplot as plt \n",
    "import seaborn as sns \n",
    "from mpl_toolkits.mplot3d import Axes3D  \n",
    "plt.style.use('ggplot') \n"
   ]
  },
  {
   "cell_type": "code",
   "execution_count": 6,
   "id": "438837f1-d75e-4198-900e-8cc76388eeaa",
   "metadata": {},
   "outputs": [
    {
     "data": {
      "text/plain": [
       "(284807, 31)"
      ]
     },
     "execution_count": 6,
     "metadata": {},
     "output_type": "execute_result"
    }
   ],
   "source": [
    "data = pd.read_csv(r\"C:\\Users\\srikanth\\Desktop\\creditcard.csv\\creditcard.csv\") \n",
    "data.shape "
   ]
  },
  {
   "cell_type": "code",
   "execution_count": 7,
   "id": "0b386fdd-a25f-4e57-bf36-47d93d0f4593",
   "metadata": {},
   "outputs": [
    {
     "data": {
      "text/plain": [
       "0"
      ]
     },
     "execution_count": 7,
     "metadata": {},
     "output_type": "execute_result"
    }
   ],
   "source": [
    "data.isnull().any().sum() "
   ]
  },
  {
   "cell_type": "code",
   "execution_count": 8,
   "id": "0b48208f-cdd4-441e-984a-18d3b878d746",
   "metadata": {},
   "outputs": [
    {
     "name": "stdout",
     "output_type": "stream",
     "text": [
      "frauds : 0.1727485630620034 %\n",
      "non frauds : 99.82725143693798 %\n",
      "492\n"
     ]
    }
   ],
   "source": [
    "All = data.shape[0] \n",
    "fraud = data[data['Class'] == 1] \n",
    "nonFraud = data[data['Class'] == 0] \n",
    "x = len(fraud)/All \n",
    "y = len(nonFraud)/All \n",
    "print('frauds :',x*100,'%') \n",
    "print('non frauds :',y*100,'%') \n",
    "print(len(fraud)) "
   ]
  },
  {
   "cell_type": "code",
   "execution_count": 9,
   "id": "0d2f7225-2a1b-4e6d-b46a-d0bba5b2ae69",
   "metadata": {},
   "outputs": [
    {
     "data": {
      "image/png": "[encoded data removed]",
      "text/plain": [
       "<Figure size 640x480 with 1 Axes>"
      ]
     },
     "metadata": {},
     "output_type": "display_data"
    }
   ],
   "source": [
    "sns.countplot(x='Class',data=data) \n",
    "plt.show() "
   ]
  },
  {
   "cell_type": "code",
   "execution_count": 10,
   "id": "f257d14c-2dd4-4af6-8711-f393ecf71942",
   "metadata": {},
   "outputs": [],
   "source": [
    "data.drop('Time', axis=1, inplace=True) "
   ]
  },
  {
   "cell_type": "code",
   "execution_count": 11,
   "id": "fcbc5861-619d-4c8e-9d25-ccdf3a90ec49",
   "metadata": {},
   "outputs": [],
   "source": [
    "X = data.drop('Class', axis=1) \n",
    "y = data['Class'] "
   ]
  },
  {
   "cell_type": "code",
   "execution_count": 12,
   "id": "a37ae2a8-3938-43c2-988f-866c3d3a062a",
   "metadata": {},
   "outputs": [],
   "source": [
    "X_train, X_test, y_train, y_test = train_test_split(X, y, test_size=0.3, random_state=42) "
   ]
  },
  {
   "cell_type": "code",
   "execution_count": 13,
   "id": "1a0b144e-5908-4f86-a62a-e4c28fd7919c",
   "metadata": {},
   "outputs": [],
   "source": [
    "scaler = StandardScaler() \n",
    "X_train = scaler.fit_transform(X_train) \n",
    "X_test = scaler.transform(X_test) "
   ]
  },
  {
   "cell_type": "code",
   "execution_count": 14,
   "id": "cf9e57ce-5b37-46e1-9bf2-0068798f6612",
   "metadata": {},
   "outputs": [],
   "source": [
    "knn_model = KNeighborsClassifier(n_neighbors=5) \n",
    "knn_model.fit(X_train, y_train) \n",
    "y_pred_knn = knn_model.predict(X_test) "
   ]
  },
  {
   "cell_type": "code",
   "execution_count": 15,
   "id": "e7753768-38d6-4d50-942a-e7bf06ab811b",
   "metadata": {},
   "outputs": [],
   "source": [
    "lr_model = LogisticRegression(max_iter=10000) \n",
    "lr_model.fit(X_train, y_train) \n",
    "y_pred_lr = lr_model.predict(X_test) "
   ]
  },
  {
   "cell_type": "code",
   "execution_count": 16,
   "id": "c142dc64-d60a-4895-be08-470855bd5b02",
   "metadata": {},
   "outputs": [],
   "source": [
    "rf_model = RandomForestClassifier(n_estimators=100, random_state=42) \n",
    "rf_model.fit(X_train, y_train) \n",
    "y_pred_rf = rf_model.predict(X_test) \n"
   ]
  },
  {
   "cell_type": "code",
   "execution_count": 17,
   "id": "1eb440c5-bb15-49b7-9a1c-4c475317f7d1",
   "metadata": {},
   "outputs": [],
   "source": [
    "def evaluate_model(y_true, y_pred):\n",
    "    accuracy = accuracy_score(y_true, y_pred)\n",
    "    precision = precision_score(y_true, y_pred)\n",
    "    recall = recall_score(y_true, y_pred)\n",
    "    f1 = f1_score(y_true, y_pred)\n",
    "    \n",
    "    print(\"Accuracy:\", round(accuracy, 4))\n",
    "    print(\"Precision:\", round(precision, 4))\n",
    "    print(\"Recall:\", round(recall, 4))\n",
    "    print(\"F1 Score:\", round(f1, 4))\n"
   ]
  },
  {
   "cell_type": "code",
   "execution_count": 18,
   "id": "d00b70de-2eac-460b-af35-b18718539a33",
   "metadata": {},
   "outputs": [
    {
     "name": "stdout",
     "output_type": "stream",
     "text": [
      "Evaluation for KNN Model:\n",
      "Accuracy: 0.9994\n",
      "Precision: 0.8678\n",
      "Recall: 0.7721\n",
      "F1 Score: 0.8171\n",
      "\n",
      "Evaluation for Logistic Regression Model:\n",
      "Accuracy: 0.9993\n",
      "Precision: 0.8763\n",
      "Recall: 0.625\n",
      "F1 Score: 0.7296\n",
      "\n",
      "Evaluation for Random Forest Model:\n",
      "Accuracy: 0.9996\n",
      "Precision: 0.9412\n",
      "Recall: 0.8235\n",
      "F1 Score: 0.8784\n"
     ]
    }
   ],
   "source": [
    "print(\"Evaluation for KNN Model:\") \n",
    "evaluate_model(y_test, y_pred_knn) \n",
    "print(\"\\nEvaluation for Logistic Regression Model:\") \n",
    "evaluate_model(y_test, y_pred_lr) \n",
    "print(\"\\nEvaluation for Random Forest Model:\") \n",
    "evaluate_model(y_test, y_pred_rf)"
   ]
  },
  {
   "cell_type": "code",
   "execution_count": null,
   "id": "b552d523-679d-4656-baf7-a5b8214e8d16",
   "metadata": {},
   "outputs": [],
   "source": []
  }
 ],
 "metadata": {
  "kernelspec": {
   "display_name": "Python 3 (ipykernel)",
   "language": "python",
   "name": "python3"
  },
  "language_info": {
   "codemirror_mode": {
    "name": "ipython",
    "version": 3
   },
   "file_extension": ".py",
   "mimetype": "text/x-python",
   "name": "python",
   "nbconvert_exporter": "python",
   "pygments_lexer": "ipython3",
   "version": "3.12.7"
  }
 },
 "nbformat": 4,
 "nbformat_minor": 5
}
